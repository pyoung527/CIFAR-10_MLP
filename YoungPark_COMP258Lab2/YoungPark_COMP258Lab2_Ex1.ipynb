{
 "cells": [
  {
   "cell_type": "code",
   "execution_count": 1,
   "metadata": {},
   "outputs": [],
   "source": [
    "# Author: Young Park\n",
    "# Student ID: 301200413\n",
    "\n",
    "# load the data: training.json, test.json\n",
    "\n",
    "# import libraries\n",
    "import numpy as np\n",
    "import pandas as pd\n",
    "import matplotlib.pyplot as plt\n",
    "import seaborn as sns\n",
    "import json\n",
    "%matplotlib inline\n",
    "\n",
    "# load the data\n",
    "with open('training.json') as f:\n",
    "    training = json.load(f)\n",
    "with open('test.json') as f:\n",
    "    test = json.load(f)\n",
    "\n",
    "# convert the data into a dataframe\n",
    "training_df = pd.DataFrame(training)\n",
    "test_df = pd.DataFrame(test)"
   ]
  },
  {
   "cell_type": "code",
   "execution_count": 2,
   "metadata": {},
   "outputs": [
    {
     "name": "stdout",
     "output_type": "stream",
     "text": [
      "(147, 5) (3, 5)\n"
     ]
    }
   ],
   "source": [
    "print(training_df.shape, test_df.shape)"
   ]
  },
  {
   "cell_type": "code",
   "execution_count": 3,
   "metadata": {},
   "outputs": [],
   "source": [
    "# encoding categorical data to numerical data\n",
    "training_df['species'] = training_df['species'].astype('category')\n",
    "training_df['species'] = training_df['species'].cat.codes\n",
    "test_df['species'] = test_df['species'].astype('category')\n",
    "test_df['species'] = test_df['species'].cat.codes"
   ]
  },
  {
   "cell_type": "code",
   "execution_count": 4,
   "metadata": {},
   "outputs": [],
   "source": [
    "# scale the data\n",
    "import sklearn.preprocessing as preprocessing\n",
    "scaler = preprocessing.StandardScaler()\n",
    "training_df[['petal_length', 'petal_width', 'sepal_length', 'sepal_width']] = scaler.fit_transform(training_df[['petal_length', 'petal_width', 'sepal_length', 'sepal_width']])\n",
    "test_df[['petal_length', 'petal_width', 'sepal_length', 'sepal_width']] = scaler.fit_transform(test_df[['petal_length', 'petal_width', 'sepal_length', 'sepal_width']])"
   ]
  },
  {
   "cell_type": "code",
   "execution_count": 5,
   "metadata": {},
   "outputs": [],
   "source": [
    "# Use backpropagation to train a neural network to classify the different species of the Iris flower.\n",
    "\n",
    "sigmoid = lambda x: 1 / (1 + np.exp(-x));\n",
    "\n",
    "# simple 4-5-3 ANN\n",
    "def backprop(W1,W2,X,D):\n",
    "    alpha = 0.01; # learning rate\n",
    "    for n in range(0,len(X)):\n",
    "        # X is pandas dataframe\n",
    "        x = X.iloc[n].values\n",
    "        # D is pandas series\n",
    "        d = D.iloc[n]\n",
    "        # forward pass\n",
    "        v1 = np.dot(W1,x)\n",
    "        y1 = sigmoid(v1)\n",
    "        v2 = np.dot(W2,y1)\n",
    "        y2 = sigmoid(v2)\n",
    "        # backward pass\n",
    "        e2 = d - y2\n",
    "        delta2 = y2 * (1 - y2) * e2 # delta: derivative of activation function times error\n",
    "        e1 = np.dot(W2.T,delta2)\n",
    "        delta1 = y1 * (1 - y1) * e1 # 𝜎′(𝑥)=𝜎(𝑥)∙(1− 𝜎(𝑥)) = y * (1-y)\n",
    "        # update weights\n",
    "        W2 += alpha * np.outer(delta2,y1)\n",
    "        W1 += alpha * np.outer(delta1,x)\n",
    "    return W1,W2"
   ]
  },
  {
   "cell_type": "code",
   "execution_count": 6,
   "metadata": {},
   "outputs": [],
   "source": [
    "# initialize the weights\n",
    "W1 = np.random.rand(5,4)\n",
    "W2 = np.random.rand(3,5)\n",
    "\n",
    "# train the network\n",
    "for i in range(0,10000):\n",
    "    W1,W2 = backprop(W1,W2,training_df[['petal_length', 'petal_width', 'sepal_length', 'sepal_width']],training_df['species'])"
   ]
  },
  {
   "cell_type": "code",
   "execution_count": 9,
   "metadata": {},
   "outputs": [
    {
     "data": {
      "text/plain": [
       "array([[ 2.60070479,  2.81282305,  1.65245452, -1.65850712],\n",
       "       [ 2.67447143,  2.54591595,  1.74525047, -1.59365531],\n",
       "       [ 2.83473327,  2.90580255,  1.2724203 , -1.53652267],\n",
       "       [ 2.64912969,  2.91994318,  1.56140248, -1.75626899],\n",
       "       [ 2.80705289,  3.04462224,  1.37114527, -1.92871199]])"
      ]
     },
     "execution_count": 9,
     "metadata": {},
     "output_type": "execute_result"
    }
   ],
   "source": [
    "W1"
   ]
  },
  {
   "cell_type": "code",
   "execution_count": 10,
   "metadata": {},
   "outputs": [
    {
     "data": {
      "text/plain": [
       "array([[1.95288534, 1.62529586, 1.70136365, 2.34182707, 2.51425664],\n",
       "       [2.08689811, 1.56728098, 1.87208325, 1.94271611, 2.66234192],\n",
       "       [1.78350861, 1.78419657, 2.09995916, 2.27753205, 2.20821587]])"
      ]
     },
     "execution_count": 10,
     "metadata": {},
     "output_type": "execute_result"
    }
   ],
   "source": [
    "W2"
   ]
  },
  {
   "cell_type": "code",
   "execution_count": 13,
   "metadata": {},
   "outputs": [
    {
     "data": {
      "text/html": [
       "<div>\n",
       "<style scoped>\n",
       "    .dataframe tbody tr th:only-of-type {\n",
       "        vertical-align: middle;\n",
       "    }\n",
       "\n",
       "    .dataframe tbody tr th {\n",
       "        vertical-align: top;\n",
       "    }\n",
       "\n",
       "    .dataframe thead th {\n",
       "        text-align: right;\n",
       "    }\n",
       "</style>\n",
       "<table border=\"1\" class=\"dataframe\">\n",
       "  <thead>\n",
       "    <tr style=\"text-align: right;\">\n",
       "      <th></th>\n",
       "      <th>petal_length</th>\n",
       "      <th>petal_width</th>\n",
       "      <th>sepal_length</th>\n",
       "      <th>sepal_width</th>\n",
       "    </tr>\n",
       "  </thead>\n",
       "  <tbody>\n",
       "    <tr>\n",
       "      <th>0</th>\n",
       "      <td>-1.337867</td>\n",
       "      <td>-1.308265</td>\n",
       "      <td>-0.896930</td>\n",
       "      <td>1.045627</td>\n",
       "    </tr>\n",
       "    <tr>\n",
       "      <th>1</th>\n",
       "      <td>-1.337867</td>\n",
       "      <td>-1.308265</td>\n",
       "      <td>-1.137091</td>\n",
       "      <td>-0.115303</td>\n",
       "    </tr>\n",
       "    <tr>\n",
       "      <th>2</th>\n",
       "      <td>-1.394543</td>\n",
       "      <td>-1.308265</td>\n",
       "      <td>-1.377252</td>\n",
       "      <td>0.349069</td>\n",
       "    </tr>\n",
       "    <tr>\n",
       "      <th>3</th>\n",
       "      <td>-1.281191</td>\n",
       "      <td>-1.308265</td>\n",
       "      <td>-1.497333</td>\n",
       "      <td>0.116883</td>\n",
       "    </tr>\n",
       "    <tr>\n",
       "      <th>4</th>\n",
       "      <td>-1.337867</td>\n",
       "      <td>-1.308265</td>\n",
       "      <td>-1.017010</td>\n",
       "      <td>1.277813</td>\n",
       "    </tr>\n",
       "  </tbody>\n",
       "</table>\n",
       "</div>"
      ],
      "text/plain": [
       "   petal_length  petal_width  sepal_length  sepal_width\n",
       "0     -1.337867    -1.308265     -0.896930     1.045627\n",
       "1     -1.337867    -1.308265     -1.137091    -0.115303\n",
       "2     -1.394543    -1.308265     -1.377252     0.349069\n",
       "3     -1.281191    -1.308265     -1.497333     0.116883\n",
       "4     -1.337867    -1.308265     -1.017010     1.277813"
      ]
     },
     "execution_count": 13,
     "metadata": {},
     "output_type": "execute_result"
    }
   ],
   "source": [
    "training_df[['petal_length', 'petal_width', 'sepal_length', 'sepal_width']].head()"
   ]
  },
  {
   "cell_type": "code",
   "execution_count": 14,
   "metadata": {},
   "outputs": [
    {
     "data": {
      "text/plain": [
       "0    0\n",
       "1    0\n",
       "2    0\n",
       "3    0\n",
       "4    0\n",
       "Name: species, dtype: int8"
      ]
     },
     "execution_count": 14,
     "metadata": {},
     "output_type": "execute_result"
    }
   ],
   "source": [
    "training_df['species'].head()"
   ]
  },
  {
   "cell_type": "code",
   "execution_count": 19,
   "metadata": {},
   "outputs": [
    {
     "name": "stdout",
     "output_type": "stream",
     "text": [
      "The flower is classified as species 2\n",
      "The flower is classified as species 2\n",
      "The flower is classified as species 2\n"
     ]
    }
   ],
   "source": [
    "# classify the test data and display the flower species\n",
    "def classify(W1,W2,X):\n",
    "    for n in range(0,len(X)):\n",
    "        x = X.iloc[n].values\n",
    "        v1 = np.dot(W1,x)\n",
    "        y1 = sigmoid(v1)\n",
    "        v2 = np.dot(W2,y1)\n",
    "        y2 = sigmoid(v2)\n",
    "        print('The flower is classified as species',np.argmax(y2))\n",
    "\n",
    "classify(W1,W2,test_df[['petal_length', 'petal_width', 'sepal_length', 'sepal_width']])\n"
   ]
  },
  {
   "cell_type": "code",
   "execution_count": 21,
   "metadata": {},
   "outputs": [
    {
     "data": {
      "text/html": [
       "<div>\n",
       "<style scoped>\n",
       "    .dataframe tbody tr th:only-of-type {\n",
       "        vertical-align: middle;\n",
       "    }\n",
       "\n",
       "    .dataframe tbody tr th {\n",
       "        vertical-align: top;\n",
       "    }\n",
       "\n",
       "    .dataframe thead th {\n",
       "        text-align: right;\n",
       "    }\n",
       "</style>\n",
       "<table border=\"1\" class=\"dataframe\">\n",
       "  <thead>\n",
       "    <tr style=\"text-align: right;\">\n",
       "      <th></th>\n",
       "      <th>sepal_length</th>\n",
       "      <th>sepal_width</th>\n",
       "      <th>petal_length</th>\n",
       "      <th>petal_width</th>\n",
       "      <th>species</th>\n",
       "    </tr>\n",
       "  </thead>\n",
       "  <tbody>\n",
       "    <tr>\n",
       "      <th>0</th>\n",
       "      <td>-1.297771</td>\n",
       "      <td>1.408374</td>\n",
       "      <td>-1.367295</td>\n",
       "      <td>-1.323501</td>\n",
       "      <td>setosa</td>\n",
       "    </tr>\n",
       "    <tr>\n",
       "      <th>1</th>\n",
       "      <td>1.135550</td>\n",
       "      <td>-0.592999</td>\n",
       "      <td>0.996503</td>\n",
       "      <td>1.093327</td>\n",
       "      <td>virginica</td>\n",
       "    </tr>\n",
       "    <tr>\n",
       "      <th>2</th>\n",
       "      <td>0.162221</td>\n",
       "      <td>-0.815374</td>\n",
       "      <td>0.370792</td>\n",
       "      <td>0.230174</td>\n",
       "      <td>versicolor</td>\n",
       "    </tr>\n",
       "  </tbody>\n",
       "</table>\n",
       "</div>"
      ],
      "text/plain": [
       "   sepal_length  sepal_width  petal_length  petal_width     species\n",
       "0     -1.297771     1.408374     -1.367295    -1.323501      setosa\n",
       "1      1.135550    -0.592999      0.996503     1.093327   virginica\n",
       "2      0.162221    -0.815374      0.370792     0.230174  versicolor"
      ]
     },
     "execution_count": 21,
     "metadata": {},
     "output_type": "execute_result"
    }
   ],
   "source": [
    "# print the actual flower species names\n",
    "test_df['species'].replace(0, 'setosa', inplace=True)\n",
    "test_df['species'].replace(1, 'versicolor', inplace=True)\n",
    "test_df['species'].replace(2, 'virginica', inplace=True)\n",
    "test_df"
   ]
  },
  {
   "cell_type": "code",
   "execution_count": 22,
   "metadata": {},
   "outputs": [
    {
     "name": "stdout",
     "output_type": "stream",
     "text": [
      "The accuracy of the network is 0.3673469387755102\n"
     ]
    }
   ],
   "source": [
    "# report the accuracy of the network\n",
    "def accuracy(W1,W2,X,D):\n",
    "    correct = 0\n",
    "    for n in range(0,len(X)):\n",
    "        x = X.iloc[n].values\n",
    "        d = D.iloc[n]\n",
    "        v1 = np.dot(W1,x)\n",
    "        y1 = sigmoid(v1)\n",
    "        v2 = np.dot(W2,y1)\n",
    "        y2 = sigmoid(v2)\n",
    "        if np.argmax(y2) == d:\n",
    "            correct += 1\n",
    "    print('The accuracy of the network is',correct/len(X))\n",
    "\n",
    "accuracy(W1,W2,training_df[['petal_length', 'petal_width', 'sepal_length', 'sepal_width']],training_df['species'])\n"
   ]
  }
 ],
 "metadata": {
  "kernelspec": {
   "display_name": "Python 3.10.8 64-bit",
   "language": "python",
   "name": "python3"
  },
  "language_info": {
   "codemirror_mode": {
    "name": "ipython",
    "version": 3
   },
   "file_extension": ".py",
   "mimetype": "text/x-python",
   "name": "python",
   "nbconvert_exporter": "python",
   "pygments_lexer": "ipython3",
   "version": "3.10.8"
  },
  "orig_nbformat": 4,
  "vscode": {
   "interpreter": {
    "hash": "a762a371feecdb3d255f54b06c9f91a755558ba34a79239bfffe707721fff796"
   }
  }
 },
 "nbformat": 4,
 "nbformat_minor": 2
}
